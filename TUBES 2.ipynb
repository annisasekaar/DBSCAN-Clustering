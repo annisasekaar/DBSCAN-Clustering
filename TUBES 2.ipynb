{
 "cells": [
  {
   "cell_type": "code",
   "execution_count": 389,
   "metadata": {},
   "outputs": [],
   "source": [
    "import pandas as pd\n",
    "import numpy as np\n",
    "import math"
   ]
  },
  {
   "cell_type": "code",
   "execution_count": 492,
   "metadata": {},
   "outputs": [],
   "source": [
    "class DBSCAN_mn :\n",
    "    # initialize\n",
    "    def __init__(self, eps, min_samples) :\n",
    "        self.eps = eps\n",
    "        self.min_samples = min_samples\n",
    "        self.visit = []\n",
    "        self.clusters = []\n",
    "        self.list_of_cluster = []\n",
    "        self.noise = []\n",
    "        self.core = [] # for predict\n",
    "        self.dataset = []\n",
    "        \n",
    "    def fit(self, dataset) : # list\n",
    "        self.visit = dataset[:] # create label for visited data\n",
    "        self.dataset = dataset[:]\n",
    "        C = -1 # create cluster\n",
    "        for data in self.dataset :\n",
    "            if data in self.visit :\n",
    "                self.visit.remove(data)\n",
    "                # find all neighbor for sample data\n",
    "                data_neighbor = self.find_neighbors(data)\n",
    "                if len(data_neighbor) < self.min_samples : self.noise.append(data)\n",
    "                else :\n",
    "                    C += 1\n",
    "                    self.expand_cluster(data, data_neighbor, C)\n",
    "        self.create_cluster()\n",
    "                    \n",
    "    def expand_cluster(self, sample, sample_neighbor, C) :\n",
    "        # first delete clustered element before because it's not core\n",
    "        for inst in self.clusters :\n",
    "                if sample in inst : self.clusters[self.clusters.index(inst)].remove(sample)\n",
    "        self.clusters.insert(C, [sample])\n",
    "        self.core.append(sample)\n",
    "        \n",
    "        for data in sample_neighbor :\n",
    "            if data in self.visit : # is not visited yet\n",
    "                self.visit.remove(data)\n",
    "                data_neighbor = self.find_neighbors(data)\n",
    "                if len(data_neighbor) >= self.min_samples :\n",
    "                    self.core.append(data)\n",
    "                    for elmt in data_neighbor :\n",
    "                        if elmt not in sample_neighbor : sample_neighbor.append(elmt)\n",
    "            cluster = False\n",
    "            for inst in self.clusters :\n",
    "                if data in inst :\n",
    "                    cluster = True\n",
    "                    break\n",
    "            if cluster == False : \n",
    "                self.clusters[C].append(data)\n",
    "                if data in self.noise : self.noise.remove(data)\n",
    "    \n",
    "    def find_neighbors(self, sample) :\n",
    "        neighbor = []\n",
    "        for data in self.dataset :\n",
    "            distance = math.sqrt(sum([(a - b) ** 2 for a, b in zip(sample, data)])) # calculate euclidian distance\n",
    "            if distance <= self.eps : neighbor.append(data)        \n",
    "        return neighbor\n",
    "    \n",
    "    def create_cluster(self) :\n",
    "        for data in self.dataset :\n",
    "            for i in range(len(self.clusters)) :\n",
    "                if data in self.clusters[i] : \n",
    "                    self.list_of_cluster.append(i)\n",
    "            if data in self.noise : \n",
    "                self.list_of_cluster.append(-1)\n",
    "        self.list_of_cluster = np.array(self.list_of_cluster)\n",
    "        \n",
    "    def predict(self, datatest) :\n",
    "        pred = []\n",
    "        for data in datatest :\n",
    "            appended = False\n",
    "            for core_ in self.core :\n",
    "                distance = math.sqrt(sum([(a - b) ** 2 for a, b in zip(core_, data)])) # calculate euclidian distance\n",
    "                if distance <= self.eps : \n",
    "                    pred.append(self.list_of_cluster[self.dataset.index(data)])\n",
    "                    appended = True\n",
    "                    break\n",
    "            if appended == False : \n",
    "                pred.append(-1)\n",
    "        return np.array(pred)"
   ]
  },
  {
   "cell_type": "markdown",
   "metadata": {},
   "source": [
    "### Iris Dataset"
   ]
  },
  {
   "cell_type": "code",
   "execution_count": 493,
   "metadata": {},
   "outputs": [],
   "source": [
    "from sklearn import datasets\n",
    "iris = datasets.load_iris()\n",
    "X = iris.data\n",
    "y = iris.target"
   ]
  },
  {
   "cell_type": "code",
   "execution_count": 494,
   "metadata": {},
   "outputs": [
    {
     "data": {
      "text/plain": [
       "array([ 0,  0,  0,  0,  0,  0,  0,  0,  0,  0,  0,  0,  0,  0,  0,  0,  0,\n",
       "        0,  0,  0,  0,  0,  0,  0,  0,  0,  0,  0,  0,  0,  0,  0,  0,  0,\n",
       "        0,  0,  0,  0,  0,  0,  0,  0,  0,  0,  0,  0,  0,  0,  0,  0,  1,\n",
       "        1,  1,  1,  1,  1,  1,  1,  1,  1,  1,  1,  1,  1,  1,  1,  1,  1,\n",
       "        1,  1,  1,  1,  1,  1,  1,  1,  1,  1,  1,  1,  1,  1,  1,  1,  1,\n",
       "        1,  1,  1,  1,  1,  1,  1,  1,  1,  1,  1,  1,  1,  1,  1,  1,  2,\n",
       "        1,  1,  1,  1, -1,  1,  1,  1,  1,  1,  1,  1,  1,  1,  1,  3,  1,\n",
       "        1,  1,  1,  1,  1,  1,  1,  1,  1,  1,  1,  1,  3,  1,  1,  1,  1,\n",
       "        1,  1,  1,  1,  1,  1,  2,  1,  1,  1,  1,  1,  1,  1])"
      ]
     },
     "execution_count": 494,
     "metadata": {},
     "output_type": "execute_result"
    }
   ],
   "source": [
    "check2 = DBSCAN_mn(0.7,2)\n",
    "check2.fit(X.tolist())\n",
    "check2.list_of_cluster"
   ]
  },
  {
   "cell_type": "code",
   "execution_count": null,
   "metadata": {},
   "outputs": [],
   "source": []
  }
 ],
 "metadata": {
  "kernelspec": {
   "display_name": "Python 3",
   "language": "python",
   "name": "python3"
  },
  "language_info": {
   "codemirror_mode": {
    "name": "ipython",
    "version": 3
   },
   "file_extension": ".py",
   "mimetype": "text/x-python",
   "name": "python",
   "nbconvert_exporter": "python",
   "pygments_lexer": "ipython3",
   "version": "3.7.4"
  }
 },
 "nbformat": 4,
 "nbformat_minor": 2
}
